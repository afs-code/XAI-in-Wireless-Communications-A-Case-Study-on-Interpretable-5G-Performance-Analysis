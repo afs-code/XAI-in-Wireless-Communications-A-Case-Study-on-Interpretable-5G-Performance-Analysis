{
 "cells": [
  {
   "cell_type": "code",
   "execution_count": null,
   "metadata": {},
   "outputs": [],
   "source": [
    "import numpy as np\n",
    "import pandas as pd\n",
    "from sklearn.model_selection import train_test_split\n",
    "from interpret.glassbox import ExplainableBoostingRegressor\n",
    "from interpret import show"
   ]
  },
  {
   "cell_type": "code",
   "execution_count": null,
   "metadata": {},
   "outputs": [],
   "source": [
    "df = pd.read_csv(\"Datasets/drivingData.csv\")\n",
    "print(df.head())\n",
    "\n",
    "# ---------------------------------------------------------\n",
    "# 2) Random sampling of 10,000 rows\n",
    "#    - For reproducibility, set a random seed (can be anything)\n",
    "# ---------------------------------------------------------\n",
    "random_seed = 42\n",
    "num_samples = 10_000\n",
    "sampled_df = df.sample(n=num_samples, random_state=random_seed)\n",
    "\n",
    "X_df = sampled_df.drop(columns=[\"RSRP\"])\n",
    "y_df = sampled_df[\"RSRP\"]\n",
    "\n",
    "testRatio = 0.2\n",
    "valRatio = 0.2\n",
    "X_train_test, X_test, y_train_test, y_test = train_test_split(\n",
    "    X_df, y_df, test_size=testRatio, random_state=random_seed\n",
    ")\n",
    "X_train, X_val, y_train, y_val = train_test_split(\n",
    "    X_train_test, y_train_test, test_size=valRatio, random_state=random_seed\n",
    ")\n",
    "\n",
    "# 5) Normalize target\n",
    "normalize = True\n",
    "if normalize:\n",
    "    min_train = y_train.min()\n",
    "    max_train = y_train.max()\n",
    "    denom = max_train - min_train if max_train != min_train else 1.0\n",
    "    \n",
    "    y_train = (y_train - min_train) / denom\n",
    "    y_val   = (y_val - min_train)   / denom\n",
    "    y_test  = (y_test - min_train)  / denom"
   ]
  },
  {
   "cell_type": "code",
   "execution_count": null,
   "metadata": {},
   "outputs": [],
   "source": [
    "\n",
    "# ---------------------------------------------------------\n",
    "# 6) Train an EBM with parameters analogous to GAMI‐Net\n",
    "#    (see explanation below)\n",
    "# ---------------------------------------------------------\n",
    "model = ExplainableBoostingRegressor(\n",
    "    # Basic training settings\n",
    "    random_state=random_seed,\n",
    "    # We can interpret these as \"epochs\" for boosting\n",
    "    max_rounds=1500,\n",
    "    # Step size for each boosting iteration\n",
    "    learning_rate=0.001,\n",
    "    # Number of pairwise interactions\n",
    "    interactions=20,\n",
    "    # Early stopping\n",
    "    early_stopping_rounds=50,\n",
    "    early_stopping_tolerance=1e-4,\n",
    "    # EBM uses bagging by default; you can tune bag counts\n",
    "    outer_bags=4,\n",
    "    # Tree complexity\n",
    "    max_leaves=40,         # analogous to 'numNode'\n",
    "    min_samples_leaf=5,    # analogous to 'tolerance' for leaf size\n",
    "    # By default, EBM will use 256 bins, which you can tune\n",
    "    max_bins=256,\n",
    "    # We can let EBM hold out a portion of training data to validate internally\n",
    "    validation_size=0.2,\n",
    ")\n"
   ]
  },
  {
   "cell_type": "code",
   "execution_count": null,
   "metadata": {},
   "outputs": [],
   "source": [
    "\n",
    "print(\"Training EBM...\")\n",
    "model.fit(X_train, y_train)\n",
    "print(\"EBM training complete.\")\n",
    "\n",
    "# Evaluate on train\n",
    "y_train_pred = model.predict(X_train)\n",
    "train_rmse = np.sqrt(np.mean((y_train_pred - y_train) ** 2))\n",
    "print(f\"Train RMSE: {train_rmse:.4f}\")\n",
    "\n",
    "# Evaluate on validation\n",
    "y_val_pred = model.predict(X_val)\n",
    "val_rmse = np.sqrt(np.mean((y_val_pred - y_val) ** 2))\n",
    "print(f\"Val RMSE: {val_rmse:.4f}\")\n",
    "\n",
    "# Evaluate on test\n",
    "y_test_pred = model.predict(X_test)\n",
    "test_rmse = np.sqrt(np.mean((y_test_pred - y_test) ** 2))\n",
    "print(f\"Test RMSE: {test_rmse:.4f}\")\n",
    "\n"
   ]
  },
  {
   "cell_type": "code",
   "execution_count": null,
   "metadata": {},
   "outputs": [],
   "source": [
    "\n",
    "# ---------------------------------------------------------\n",
    "# 7) Global explanation\n",
    "# ---------------------------------------------------------\n",
    "global_exp = model.explain_global()\n",
    "show(global_exp)\n",
    "\n",
    "exp_data = global_exp.data()"
   ]
  }
 ],
 "metadata": {
  "kernelspec": {
   "display_name": "interpretML",
   "language": "python",
   "name": "python3"
  },
  "language_info": {
   "codemirror_mode": {
    "name": "ipython",
    "version": 3
   },
   "file_extension": ".py",
   "mimetype": "text/x-python",
   "name": "python",
   "nbconvert_exporter": "python",
   "pygments_lexer": "ipython3",
   "version": "3.9.23"
  }
 },
 "nbformat": 4,
 "nbformat_minor": 2
}
